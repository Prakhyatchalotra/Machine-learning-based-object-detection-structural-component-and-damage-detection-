{
  "cells": [
    {
      "cell_type": "code",
      "execution_count": null,
      "id": "3472ce84",
      "metadata": {
        "id": "3472ce84"
      },
      "outputs": [],
      "source": [
        "import numpy as np\n",
        "import cv2 as cv"
      ]
    },
    {
      "cell_type": "markdown",
      "id": "fb9815a0",
      "metadata": {
        "id": "fb9815a0"
      },
      "source": [
        "In the below code cell, amoung the upper three comments, use any one but make sure that when you use the 'kernel' one, use second one from the bottom two comments."
      ]
    },
    {
      "cell_type": "code",
      "execution_count": null,
      "id": "bcd56b9f",
      "metadata": {
        "id": "bcd56b9f"
      },
      "outputs": [],
      "source": [
        "cap = cv.VideoCapture('Path of video')\n",
        "# kernel = cv.getStructuringElement(cv.MORPH_ELLIPSE, (3,3)) #use this or\n",
        "# fgbg = cv.createBackgroundSubtractorMOG2(detectShadows=True) #use this\n",
        "# fgbg = cv.createBackgroundSubtractorKNN(detectShadows=True) #use this\n",
        "while True:\n",
        "    ret, frame = cap.read()\n",
        "    if frame is None:\n",
        "        break\n",
        "#     fgmask = fgbg.apply(frame) #use this or\n",
        "#     fgmask = cv.morphologyEx(fgmask, cv.MORPH_OPEN, kernel) #use this\n",
        "\n",
        "    cv.imshow('Frame', frame)\n",
        "    cv.imshow('FG MASK Frame', fgmask)\n",
        "\n",
        "    keyboard = cv.waitKey(30)\n",
        "    if keyboard == 'q' or keyboard == 27:\n",
        "        break\n",
        "cap.release()\n",
        "cv.destroyAllWindows()"
      ]
    }
  ],
  "metadata": {
    "kernelspec": {
      "display_name": "Python 3 (ipykernel)",
      "language": "python",
      "name": "python3"
    },
    "language_info": {
      "codemirror_mode": {
        "name": "ipython",
        "version": 3
      },
      "file_extension": ".py",
      "mimetype": "text/x-python",
      "name": "python",
      "nbconvert_exporter": "python",
      "pygments_lexer": "ipython3",
      "version": "3.9.7"
    },
    "colab": {
      "name": "Background Subtraction Method OpenCV.ipynb",
      "provenance": [],
      "collapsed_sections": []
    }
  },
  "nbformat": 4,
  "nbformat_minor": 5
}