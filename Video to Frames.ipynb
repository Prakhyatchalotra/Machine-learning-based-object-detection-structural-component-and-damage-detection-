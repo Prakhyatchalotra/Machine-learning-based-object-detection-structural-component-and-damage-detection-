{
  "cells": [
    {
      "cell_type": "code",
      "execution_count": null,
      "id": "b95297ee",
      "metadata": {
        "id": "b95297ee"
      },
      "outputs": [],
      "source": [
        "import os\n",
        "import numpy as np\n",
        "import cv2\n",
        "from glob import glob"
      ]
    },
    {
      "cell_type": "code",
      "execution_count": null,
      "id": "4a0eb54e",
      "metadata": {
        "id": "4a0eb54e"
      },
      "outputs": [],
      "source": [
        "def create_dir(path):\n",
        "    try:\n",
        "        if not os.path.exists(path):\n",
        "            os.makedirs(path)\n",
        "    except OSError:\n",
        "        print(f\"ERROR: creating directory with name {path}\")\n",
        "\n",
        "def save_frame(video_path, main_folder_of_directory, gap):\n",
        "    name = video_path.split(\"/\")[-1].split(\".\")[0]  #we have to name the frames file as 'videoplayback'. therefore, we need to edit the video file mame by splitting it by slashes and then we need the last name videoplayback.mp3. But now also we dont need the extension '.mp3' therefore we will agian split it by a dot. [-1] means we need the last name after splitting and [0] means we need the first name after splitting.\n",
        "    save_path = os.path.join(main_folder_of_directory, name)\n",
        "    create_dir(save_path)\n",
        "\n",
        "    cap = cv2.VideoCapture(video_path)\n",
        "    idx = 0\n",
        "\n",
        "    while True:\n",
        "        ret, frame = cap.read() #'ret' is a boolean value and 'frame' if a variable stores the frame extracted by cap.read().\n",
        "\n",
        "        if ret == False:\n",
        "            cap.release()\n",
        "            break\n",
        "\n",
        "        if idx == 0:\n",
        "            cv2.imwrite(f\"{save_path}/{idx}.png\", frame) \n",
        "        else:\n",
        "            if idx % gap == 0:\n",
        "                cv2.imwrite(f\"{save_path}/{idx}.png\", frame)\n",
        "\n",
        "        idx += 1\n",
        "\n",
        "if __name__ == \"__main__\":\n",
        "    video_paths = glob(\"/Users/prakhyatchalotra/Downloads/videoplayback.mp4\")\n",
        "    Frames_folder = \"Frames\" #string which is the name of the frames folder(videoplayback). \n",
        "\n",
        "    for path in video_paths:\n",
        "        save_frame(path, Frames_folder, 120) #first parameter is the path of the video, second parameter is a string which is the name of the frames folder(videoplayback) and the third parameter is the number of frames we want to skip while saving them to our device."
      ]
    },
    {
      "cell_type": "code",
      "execution_count": null,
      "id": "e09c3af4",
      "metadata": {
        "id": "e09c3af4"
      },
      "outputs": [],
      "source": [
        ""
      ]
    }
  ],
  "metadata": {
    "kernelspec": {
      "display_name": "Python 3 (ipykernel)",
      "language": "python",
      "name": "python3"
    },
    "language_info": {
      "codemirror_mode": {
        "name": "ipython",
        "version": 3
      },
      "file_extension": ".py",
      "mimetype": "text/x-python",
      "name": "python",
      "nbconvert_exporter": "python",
      "pygments_lexer": "ipython3",
      "version": "3.9.7"
    },
    "colab": {
      "name": "video_to_frames.ipynb",
      "provenance": [],
      "collapsed_sections": []
    }
  },
  "nbformat": 4,
  "nbformat_minor": 5
}