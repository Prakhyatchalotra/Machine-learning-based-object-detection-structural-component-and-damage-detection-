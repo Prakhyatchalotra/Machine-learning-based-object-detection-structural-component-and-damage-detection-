{
  "nbformat": 4,
  "nbformat_minor": 0,
  "metadata": {
    "colab": {
      "name": "YOLO v3 object detection.ipynb",
      "provenance": [],
      "collapsed_sections": []
    },
    "kernelspec": {
      "name": "python3",
      "display_name": "Python 3"
    },
    "language_info": {
      "name": "python"
    }
  },
  "cells": [
    {
      "cell_type": "code",
      "execution_count": null,
      "metadata": {
        "colab": {
          "base_uri": "https://localhost:8080/"
        },
        "id": "-WtqErPRwWIo",
        "outputId": "51383187-6193-4530-e7bb-a6f84bc8e563"
      },
      "outputs": [
        {
          "output_type": "stream",
          "name": "stderr",
          "text": [
            "YOLOv3 🚀 v9.6.0-21-g92c3bd7 torch 1.11.0+cu113 CPU\n"
          ]
        },
        {
          "output_type": "stream",
          "name": "stdout",
          "text": [
            "Setup complete ✅\n"
          ]
        }
      ],
      "source": [
        "!git clone https://github.com/ultralytics/yolov3  # clone\n",
        "%cd yolov3\n",
        "%pip install -qr requirements.txt  # install\n",
        "\n",
        "import torch\n",
        "from yolov3 import utils\n",
        "display = utils.notebook_init()  # checks"
      ]
    },
    {
      "cell_type": "code",
      "source": [
        "!python detect.py --source /content/drive/MyDrive/video.mp3 #this is the path of the video\n",
        "                         "
      ],
      "metadata": {
        "id": "cxBUOPGNPRs2"
      },
      "execution_count": null,
      "outputs": []
    },
    {
      "cell_type": "code",
      "source": [
        ""
      ],
      "metadata": {
        "id": "5qd3TJITGklX"
      },
      "execution_count": null,
      "outputs": []
    }
  ]
}